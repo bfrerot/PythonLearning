{
 "cells": [
  {
   "cell_type": "code",
   "execution_count": null,
   "metadata": {},
   "outputs": [],
   "source": [
    "def invest(amount, rate, years):\n",
    "    for i in (1, years+1):\n",
    "        amount = amount * (1 + (rate/100))\n",
    "        print(f\"year {years}: ${amount:,.2f}\")\n",
    "\n",
    "amount = float(input(\"How much do you want to invest? \"))\n",
    "rate = float(input(\"At each rate? \"))\n",
    "years = int(input(\"For how many years? \"))\n",
    "     \n",
    "invest(amount, rate, years)"
   ]
  }
 ],
 "metadata": {
  "kernelspec": {
   "display_name": "Python 3.10.6 64-bit (windows store)",
   "language": "python",
   "name": "python3"
  },
  "language_info": {
   "name": "python",
   "version": "3.10.6"
  },
  "orig_nbformat": 4,
  "vscode": {
   "interpreter": {
    "hash": "98f37e196cbabc6fc5799c93f9f5639a3c9ca1c283f500dc13672e309247a157"
   }
  }
 },
 "nbformat": 4,
 "nbformat_minor": 2
}
